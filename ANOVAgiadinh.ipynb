{
  "nbformat": 4,
  "nbformat_minor": 0,
  "metadata": {
    "colab": {
      "name": "ANOVAgiadinh.ipynb",
      "provenance": [],
      "authorship_tag": "ABX9TyNNWbBNqARs795LZ7xAJS+4",
      "include_colab_link": true
    },
    "kernelspec": {
      "name": "python3",
      "display_name": "Python 3"
    },
    "language_info": {
      "name": "python"
    }
  },
  "cells": [
    {
      "cell_type": "markdown",
      "metadata": {
        "id": "view-in-github",
        "colab_type": "text"
      },
      "source": [
        "<a href=\"https://colab.research.google.com/github/viett887g/gia_dinh_ANOVA/blob/main/ANOVAgiadinh.ipynb\" target=\"_parent\"><img src=\"https://colab.research.google.com/assets/colab-badge.svg\" alt=\"Open In Colab\"/></a>"
      ]
    },
    {
      "cell_type": "code",
      "execution_count": null,
      "metadata": {
        "id": "LF1Ij2yLmUaV"
      },
      "outputs": [],
      "source": [
        "PHÂN TÍCH ANOVA MỘT CHIỀU\n",
        "\n",
        "Phân tích ANOVA chấp nhận các giả định sau:\n",
        "\n",
        "(1) Tất cả các nhóm đều độc lập với nhau\n",
        "\n",
        "(2) Dữ liệu của mỗi nhóm đều tuân theo phân phối chuẩn. Tính chất này có thể được kiểm định bằng phương pháp Shapiro-Wilks.\n",
        "\n",
        "(3) Phương sai (variance) của các nhóm bằng nhau. Tính chất này có thể được kiểm định bằng phương pháp kiểm định Bartlett hay Levene.\n",
        "\n",
        "Nếu dữ liệu hiện có thỏa mãn các tính chất trên thì chúng ta mới tiến hành kiểm định ANOVA. Do vậy trước khi tiến hành kiểm định ANOVA, chúng ta cần thực hiện kiểm tra tập dữ liệu cần thỏa mãn 3 tính chất trên."
      ]
    },
    {
      "cell_type": "code",
      "source": [
        "#Bước 1: Hãy tạo một tập dữ liệu mẫu sample_1 với kích thước 100 tuân theo phân phối chuẩn"
      ],
      "metadata": {
        "id": "Rkbnff4smcoZ"
      },
      "execution_count": null,
      "outputs": []
    },
    {
      "cell_type": "code",
      "source": [
        "import numpy as np\n",
        "from scipy import stats\n",
        "from scipy.stats import shapiro"
      ],
      "metadata": {
        "id": "iiiDVMqLmsrL"
      },
      "execution_count": 3,
      "outputs": []
    },
    {
      "cell_type": "code",
      "source": [
        "#Bước 1: Hãy tạo một tập dữ liệu mẫu sample_1 với kích thước 100 tuân theo phân phối chuẩn\n",
        "data1 = np.random.normal(loc = 5, scale = 1, size = 100)\n",
        "print(data1[range(0,20)])"
      ],
      "metadata": {
        "colab": {
          "base_uri": "https://localhost:8080/"
        },
        "id": "3vem1YDdmexZ",
        "outputId": "85785bda-beba-41ce-836f-fd037863b5db"
      },
      "execution_count": 12,
      "outputs": [
        {
          "output_type": "stream",
          "name": "stdout",
          "text": [
            "[4.78036268 5.25838365 5.0427005  4.39535744 5.61905442 5.17766643\n",
            " 5.03780495 6.802515   5.01614329 3.1485883  5.58236887 3.92245582\n",
            " 5.4960974  4.85349195 3.14133992 5.76753648 4.61339769 5.8130591\n",
            " 3.6322418  4.7724015 ]\n"
          ]
        }
      ]
    },
    {
      "cell_type": "code",
      "source": [
        "#Bước 2: hãy tạo tập dữ liệu mẫu sample_2 với kích thước 100 tuân theo phân phối Poisson\n",
        "data2 = stats.poisson.rvs(loc = 10, mu = 10, size = 100)\n",
        "print(data2)"
      ],
      "metadata": {
        "colab": {
          "base_uri": "https://localhost:8080/"
        },
        "id": "Vtt2W9VbnQWB",
        "outputId": "b271ea93-de94-42f1-87e1-4fb23d1140bb"
      },
      "execution_count": 9,
      "outputs": [
        {
          "output_type": "stream",
          "name": "stdout",
          "text": [
            "[18 21 16 14 17 16 16 24 20 19 22 21 16 18 22 17 20 27 13 20 21 21 19 19\n",
            " 22 27 23 21 15 25 21 28 15 22 22 18 19 23 19 22 18 19 20 16 19 18 22 20\n",
            " 28 23 18 18 22 21 18 19 18 23 23 16 23 30 23 24 16 18 17 17 19 19 17 23\n",
            " 21 19 25 24 17 17 20 22 19 13 19 19 16 18 19 15 23 16 21 21 19 24 23 21\n",
            " 22 16 19 20]\n"
          ]
        }
      ]
    },
    {
      "cell_type": "code",
      "source": [
        "#Code kiểm định tính chất thứ 2 của sample_1 và sample_2\n",
        "do_chinh_xac = 0.05\n",
        "ANOVA1 =stats.shapiro(data1)\n",
        "print(ANOVA1)\n",
        "if ANOVA1[1] > 0.05:\n",
        "  print(\"khong the bac bo gia thuyet H0\")\n",
        "else:\n",
        "  print(\"co bang chung de bac bo gia thuyet H0\")\n"
      ],
      "metadata": {
        "colab": {
          "base_uri": "https://localhost:8080/"
        },
        "id": "1Rlydtljmj05",
        "outputId": "4d30da66-d3b4-423e-dc82-41c89a55ffd3"
      },
      "execution_count": 17,
      "outputs": [
        {
          "output_type": "stream",
          "name": "stdout",
          "text": [
            "(0.9863904714584351, 0.39795851707458496)\n",
            "khong the bac bo gia thuyet H0\n"
          ]
        }
      ]
    },
    {
      "cell_type": "code",
      "source": [
        "do_chinh_xac = 0.05\n",
        "ANOVA2 = stats.shapiro(data2)\n",
        "print(ANOVA2)\n",
        "if ANOVA2[1] > 0.05:\n",
        "  print(\"khong the bac bo gia thuyet H0\")\n",
        "else:\n",
        "  print(\"co bang chung de bac bo gia thuyet H0\")"
      ],
      "metadata": {
        "colab": {
          "base_uri": "https://localhost:8080/"
        },
        "id": "F3cbAMm9pDlS",
        "outputId": "fd7c0ac0-4e92-4efa-e457-f9673e6d2254"
      },
      "execution_count": 20,
      "outputs": [
        {
          "output_type": "stream",
          "name": "stdout",
          "text": [
            "(0.9736533164978027, 0.04235110431909561)\n",
            "co bang chung de bac bo gia thuyet H0\n"
          ]
        }
      ]
    },
    {
      "cell_type": "markdown",
      "source": [
        "Hãy tham khảo các hướng dẫn sau để kiểm định tính chất thứ 3 bằng kiểm định Bartlett hoặc kiểm định Levene\n",
        "\n",
        "(1) Hướng dẫn tổng quát\n",
        "\n",
        "(2) Hướng dẫn ở stackoverflow\n",
        "\n",
        "(3) Sử dụng bài giảng về kiểm định Bartlett và Levene ở buổi trước"
      ],
      "metadata": {
        "id": "qzvX8GzrpmGh"
      }
    },
    {
      "cell_type": "markdown",
      "source": [
        "$$ H0= u1= u2 $$\n",
        "gia thuyet thay the\n",
        "\n",
        "H(alpha): ton tai mot trung binh tong the khac voi con lai"
      ],
      "metadata": {
        "id": "le99FIO7pm7B"
      }
    },
    {
      "cell_type": "code",
      "source": [
        "#Code kiểm định tính đồng nhất về phương sai của các nhóm"
      ],
      "metadata": {
        "id": "dwc_2-5bqRnK"
      },
      "execution_count": null,
      "outputs": []
    },
    {
      "cell_type": "code",
      "source": [
        "test1 = stats.bartlett(data1, data2)\n",
        "print(test1)\n",
        "if test1[1] < do_chinh_xac :\n",
        "    print(\"co bang chung de bac bo gia thuyet H0\")\n",
        "else:\n",
        "    print(\"khong co gia thuyet de bac bo gia thuyet H0\")"
      ],
      "metadata": {
        "colab": {
          "base_uri": "https://localhost:8080/"
        },
        "id": "q23q8zCbrBrj",
        "outputId": "ded1c114-3a77-4e79-cb60-68e90c5cd5d9"
      },
      "execution_count": 22,
      "outputs": [
        {
          "output_type": "stream",
          "name": "stdout",
          "text": [
            "BartlettResult(statistic=112.38690272156776, pvalue=2.9396423347877614e-26)\n",
            "co bang chung de bac bo gia thuyet H0\n"
          ]
        }
      ]
    }
  ]
}